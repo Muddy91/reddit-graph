{
 "cells": [
  {
   "cell_type": "markdown",
   "metadata": {},
   "source": [
    "# How to Create a Network Graph Visualization of Reddit Subreddits\n",
    "\n",
    "by Max Woolf (@minimaxir)\n",
    "\n",
    "*This notebook is licensed under the MIT License. If you use the code or data visualization designs contained within this notebook, it would be greatly appreciated if proper attribution is given back to this notebook and/or myself. Thanks! :)*"
   ]
  },
  {
   "cell_type": "code",
   "execution_count": 1,
   "metadata": {
    "collapsed": false
   },
   "outputs": [
    {
     "name": "stderr",
     "output_type": "stream",
     "text": [
      "\n",
      "Attaching package: ‘dplyr’\n",
      "\n",
      "The following objects are masked from ‘package:stats’:\n",
      "\n",
      "    filter, lag\n",
      "\n",
      "The following objects are masked from ‘package:base’:\n",
      "\n",
      "    intersect, setdiff, setequal, union\n",
      "\n",
      "Registering fonts with R\n",
      "\n",
      "Attaching package: ‘scales’\n",
      "\n",
      "The following objects are masked from ‘package:readr’:\n",
      "\n",
      "    col_factor, col_numeric\n",
      "\n",
      "sna: Tools for Social Network Analysis\n",
      "Version 2.3-2 created on 2014-01-13.\n",
      "copyright (c) 2005, Carter T. Butts, University of California-Irvine\n",
      " For citation information, type citation(\"sna\").\n",
      " Type help(package=\"sna\") to get started.\n",
      "\n",
      "\n",
      "Attaching package: ‘igraph’\n",
      "\n",
      "The following objects are masked from ‘package:sna’:\n",
      "\n",
      "    %c%, betweenness, bonpow, closeness, components, degree,\n",
      "    dyad.census, evcent, hierarchy, is.connected, neighborhood,\n",
      "    triad.census\n",
      "\n",
      "The following object is masked from ‘package:stringr’:\n",
      "\n",
      "    %>%\n",
      "\n",
      "The following objects are masked from ‘package:dplyr’:\n",
      "\n",
      "    %>%, as_data_frame, groups, union\n",
      "\n",
      "The following objects are masked from ‘package:stats’:\n",
      "\n",
      "    decompose, spectrum\n",
      "\n",
      "The following object is masked from ‘package:base’:\n",
      "\n",
      "    union\n",
      "\n"
     ]
    },
    {
     "data": {
      "text/plain": [
       "R version 3.3.0 (2016-05-03)\n",
       "Platform: x86_64-apple-darwin13.4.0 (64-bit)\n",
       "Running under: OS X 10.11.4 (El Capitan)\n",
       "\n",
       "locale:\n",
       "[1] en_US.UTF-8/en_US.UTF-8/en_US.UTF-8/C/en_US.UTF-8/en_US.UTF-8\n",
       "\n",
       "attached base packages:\n",
       "[1] grid      stats     graphics  grDevices utils     datasets  methods  \n",
       "[8] base     \n",
       "\n",
       "other attached packages:\n",
       " [1] rsvg_0.5           intergraph_2.0-2   igraph_1.0.1       svglite_1.1.0     \n",
       " [5] ggnetwork_0.5.1    sna_2.3-2          stringr_1.0.0      digest_0.6.9      \n",
       " [9] RColorBrewer_1.1-2 scales_0.4.0       extrafont_0.17     ggplot2_2.1.0     \n",
       "[13] dplyr_0.4.3        readr_0.2.2       \n",
       "\n",
       "loaded via a namespace (and not attached):\n",
       " [1] Rcpp_0.12.4      plyr_1.8.3       base64enc_0.1-3  tools_3.3.0     \n",
       " [5] uuid_0.1-2       jsonlite_0.9.19  evaluate_0.9     gtable_0.2.0    \n",
       " [9] IRdisplay_0.3    DBI_0.4          IRkernel_0.5     ggrepel_0.5     \n",
       "[13] parallel_3.3.0   rzmq_0.7.7       Rttf2pt1_1.3.3   repr_0.4        \n",
       "[17] gdtools_0.0.7    R6_2.1.2         extrafontdb_1.0  magrittr_1.5    \n",
       "[21] assertthat_0.1   colorspace_1.2-6 stringi_1.0-1    network_1.13.0  \n",
       "[25] munsell_0.4.3   "
      ]
     },
     "execution_count": 1,
     "metadata": {},
     "output_type": "execute_result"
    }
   ],
   "source": [
    "source(\"Rstart.R\")\n",
    "\n",
    "library(sna)\n",
    "library(ggnetwork)\n",
    "library(svglite)\n",
    "library(igraph)\n",
    "library(intergraph)   # convert igraph to network\n",
    "library(rsvg)   # convert svg to pdf\n",
    "\n",
    "sessionInfo()"
   ]
  },
  {
   "cell_type": "markdown",
   "metadata": {},
   "source": [
    "Load edgelist into R and preprocess."
   ]
  },
  {
   "cell_type": "code",
   "execution_count": 2,
   "metadata": {
    "collapsed": false,
    "scrolled": true
   },
   "outputs": [
    {
     "name": "stdout",
     "output_type": "stream",
     "text": [
      "Source: local data frame [6 x 3]\n",
      "\n",
      "             Source        Target Weight\n",
      "              (chr)         (chr)  (int)\n",
      "1 10cloverfieldlane     askreddit    228\n",
      "2      1200isplenty     askreddit    244\n",
      "3      1200isplenty        loseit    228\n",
      "4         2007scape adviceanimals    248\n",
      "5         2007scape     askreddit   1514\n",
      "6         2007scape         funny    372\n"
     ]
    }
   ],
   "source": [
    "file_name <- \"subreddit_edges.csv\"\n",
    "\n",
    "df <- read_csv(\"subreddit_edges.csv\") %>% arrange(Source, Target)\n",
    "print(head(df))"
   ]
  },
  {
   "cell_type": "code",
   "execution_count": 3,
   "metadata": {
    "collapsed": false
   },
   "outputs": [
    {
     "name": "stdout",
     "output_type": "stream",
     "text": [
      "Source: local data frame [6 x 4]\n",
      "\n",
      "     Source       Target Weight connectDefault\n",
      "      (chr)        (chr)  (int)          (lgl)\n",
      "1 worldnews youtubehaiku    298           TRUE\n",
      "2       wow   woweconomy    308          FALSE\n",
      "3       wow   wowservers    344          FALSE\n",
      "4       wow          wtf    654          FALSE\n",
      "5       wtf      xboxone    539          FALSE\n",
      "6       wtf youtubehaiku    349          FALSE\n"
     ]
    }
   ],
   "source": [
    "defaults <- c(\"announcements\",\"art\",\"askreddit\",\"askscience\",\"aww\",\"blog\",\n",
    "             \"books\",\"creepy\",\"dataisbeautiful\",\"diy\",\"documentaries\",\"earthporn\",\n",
    "             \"explainlikeimfive\",\"fitness\",\"food\",\"funny\",\"futurology\",\"gadgets\",\n",
    "             \"gaming\",\"getmotivated\",\"gifs\",\"history\",\"iama\",\"internetisbeautiful\",\n",
    "             \"jokes\",\"lifeprotips\",\"listentothis\",\"mildlyinteresting\",\"movies\",\"music\",\n",
    "             \"news\",\"nosleep\",\"nottheonion\",\"oldschoolcool\",\"personalfinance\",\n",
    "             \"philosophy\",\"photoshopbattles\",\"pics\",\"science\",\"showerthoughts\",\n",
    "             \"space\",\"sports\",\"television\",\"tifu\",\"todayilearned\",\"twoxchromosomes\",\"upliftingnews\",\n",
    "             \"videos\",\"worldnews\",\"writingprompts\")\n",
    "\n",
    "df <- df %>% mutate(connectDefault = ifelse(Source %in% defaults | Target %in% defaults, T, F))\n",
    "print(tail(df))"
   ]
  },
  {
   "cell_type": "code",
   "execution_count": 4,
   "metadata": {
    "collapsed": false,
    "scrolled": true
   },
   "outputs": [
    {
     "name": "stdout",
     "output_type": "stream",
     "text": [
      "IGRAPH UN-- 1131 7498 -- \n",
      "+ attr: name (v/c), Weight (e/n), connectDefault (e/l)\n",
      "+ edges (vertex names):\n",
      " [1] 10cloverfieldlane--askreddit       1200isplenty     --askreddit      \n",
      " [3] 1200isplenty     --loseit          2007scape        --adviceanimals  \n",
      " [5] 2007scape        --askreddit       2007scape        --funny          \n",
      " [7] 2007scape        --gaming          2007scape        --gifs           \n",
      " [9] 2007scape        --globaloffensive 2007scape        --ice_poseidon   \n",
      "[11] 2007scape        --leagueoflegends 2007scape        --pcmasterrace   \n",
      "[13] 2007scape        --pics            2007scape        --politics       \n",
      "[15] 2007scape        --runescape       2007scape        --the_donald     \n",
      "+ ... omitted several edges\n"
     ]
    }
   ],
   "source": [
    "net <- graph.data.frame(df, directed=F)\n",
    "\n",
    "print(net)"
   ]
  },
  {
   "cell_type": "markdown",
   "metadata": {},
   "source": [
    "Calculate degree, and remove nodes with only 1 or 2 neighbors for graphing simplicity."
   ]
  },
  {
   "cell_type": "code",
   "execution_count": 5,
   "metadata": {
    "collapsed": false,
    "scrolled": false
   },
   "outputs": [
    {
     "name": "stdout",
     "output_type": "stream",
     "text": [
      "IGRAPH UN-- 517 6732 -- \n",
      "+ attr: name (v/c), degree (v/n), Weight (e/n), connectDefault (e/l)\n",
      "+ edges (vertex names):\n",
      " [1] 2007scape--adviceanimals   2007scape--askreddit      \n",
      " [3] 2007scape--funny           2007scape--gaming         \n",
      " [5] 2007scape--gifs            2007scape--globaloffensive\n",
      " [7] 2007scape--leagueoflegends 2007scape--pcmasterrace   \n",
      " [9] 2007scape--pics            2007scape--politics       \n",
      "[11] 2007scape--runescape       2007scape--the_donald     \n",
      "[13] 2007scape--todayilearned   2007scape--videos         \n",
      "[15] 2007scape--worldnews       2007scape--wtf            \n",
      "+ ... omitted several edges\n"
     ]
    }
   ],
   "source": [
    "V(net)$degree <- centralization.degree(net)$res\n",
    "net <- igraph::delete.vertices(net, V(net)[degree < 3])\n",
    "\n",
    "print(net)"
   ]
  },
  {
   "cell_type": "markdown",
   "metadata": {},
   "source": [
    "Add more summary statistics to the nodes."
   ]
  },
  {
   "cell_type": "code",
   "execution_count": 6,
   "metadata": {
    "collapsed": false
   },
   "outputs": [
    {
     "name": "stdout",
     "output_type": "stream",
     "text": [
      "    V.net..name V.net..degree V.net..centrality V.net..group V.net..defaultnode\n",
      "1     2007scape            17       0.013282501            6              FALSE\n",
      "2           3ds            18       0.007731622           10              FALSE\n",
      "3         49ers             3       0.001340047           33              FALSE\n",
      "4         4chan            62       0.055411772            5              FALSE\n",
      "5        advice             4       0.005108509            7              FALSE\n",
      "6 adviceanimals           226       0.449733804            5              FALSE\n"
     ]
    }
   ],
   "source": [
    "V(net)$group <- membership(cluster_walktrap(net, weights=E(net)$Weight))\n",
    "V(net)$centrality <- eigen_centrality(net, weights=E(net)$Weight)$vector\n",
    "V(net)$defaultnode <- V(net)$name %in% defaults\n",
    "\n",
    "print(head(data.frame(V(net)$name, V(net)$degree, V(net)$centrality, V(net)$group, V(net)$defaultnode)))"
   ]
  },
  {
   "cell_type": "markdown",
   "metadata": {},
   "source": [
    "## Adding colors\n",
    "\n",
    "Long string of code to generate color palette and assign to nodes and edges. Generate a color for a group from solid ColorBrewer colors."
   ]
  },
  {
   "cell_type": "code",
   "execution_count": 7,
   "metadata": {
    "collapsed": false
   },
   "outputs": [
    {
     "name": "stdout",
     "output_type": "stream",
     "text": [
      "  group  colors\n",
      "1     1 #54278F\n",
      "2     2 #54278F\n",
      "3     3 #EF3B2C\n",
      "4     4 #6A51A3\n",
      "5     5 #006D2C\n",
      "6     6 #41AB5D\n"
     ]
    }
   ],
   "source": [
    "color_pool <- c(brewer.pal(9, \"Blues\")[6:9],\n",
    "                brewer.pal(9, \"Reds\")[6:9],\n",
    "                brewer.pal(9, \"Greens\")[6:9],\n",
    "                brewer.pal(9, \"Purples\")[6:9])\n",
    "\n",
    "n_colors <- max(V(net)$group)\n",
    "set.seed(42)\n",
    "palette <- data.frame(group=1:n_colors, colors=sample(color_pool, n_colors, replace=T), stringsAsFactors=FALSE)\n",
    "\n",
    "V(net)$colornode <- palette[V(net)$group, 2]\n",
    "                   \n",
    "print(head(palette))"
   ]
  },
  {
   "cell_type": "markdown",
   "metadata": {},
   "source": [
    "Prepare data frame for merging. (to find edges with are in the same group)"
   ]
  },
  {
   "cell_type": "code",
   "execution_count": 8,
   "metadata": {
    "collapsed": false,
    "scrolled": true
   },
   "outputs": [
    {
     "name": "stdout",
     "output_type": "stream",
     "text": [
      "Source: local data frame [6 x 2]\n",
      "\n",
      "         X1              X2\n",
      "      (chr)           (chr)\n",
      "1 2007scape   adviceanimals\n",
      "2 2007scape       askreddit\n",
      "3 2007scape           funny\n",
      "4 2007scape          gaming\n",
      "5 2007scape            gifs\n",
      "6 2007scape globaloffensive\n",
      "Source: local data frame [6 x 3]\n",
      "\n",
      "           name   color group\n",
      "          (chr)   (chr) (dbl)\n",
      "1     2007scape #41AB5D     6\n",
      "2           3ds #00441B    10\n",
      "3         49ers #A50F15    33\n",
      "4         4chan #006D2C     5\n",
      "5        advice #00441B     7\n",
      "6 adviceanimals #006D2C     5\n"
     ]
    }
   ],
   "source": [
    "# http://stackoverflow.com/questions/21243965/igraph-get-edge-from-to-value\n",
    "\n",
    "df_edges <- tbl_df(data.frame(get.edgelist(net), stringsAsFactors=FALSE))\n",
    "df_vertices <- tbl_df(data.frame(name=V(net)$name, color=V(net)$colornode, group=V(net)$group, stringsAsFactors=FALSE))\n",
    "\n",
    "print(head(df_edges))\n",
    "print(head(df_vertices))"
   ]
  },
  {
   "cell_type": "code",
   "execution_count": 9,
   "metadata": {
    "collapsed": false
   },
   "outputs": [
    {
     "name": "stdout",
     "output_type": "stream",
     "text": [
      "Source: local data frame [6 x 6]\n",
      "\n",
      "         X1              X2 color.x group.x color.y group.y\n",
      "      (chr)           (chr)   (chr)   (dbl)   (chr)   (dbl)\n",
      "1 2007scape   adviceanimals #41AB5D       6 #006D2C       5\n",
      "2 2007scape       askreddit #41AB5D       6 #006D2C       5\n",
      "3 2007scape           funny #41AB5D       6 #006D2C       5\n",
      "4 2007scape          gaming #41AB5D       6 #08519C       8\n",
      "5 2007scape            gifs #41AB5D       6 #006D2C       5\n",
      "6 2007scape globaloffensive #41AB5D       6 #41AB5D       6\n"
     ]
    }
   ],
   "source": [
    "default_edge_color <- \"#cccccc\"\n",
    "\n",
    "df_edges <- df_edges %>% left_join(df_vertices, by=c(\"X1\"=\"name\")) %>% left_join(df_vertices, by=c(\"X2\"=\"name\"))\n",
    "E(net)$coloredge <- ifelse(df_edges$group.x==df_edges$group.y, df_edges$color.x, default_edge_color)\n",
    "\n",
    "print(head(df_edges))"
   ]
  },
  {
   "cell_type": "code",
   "execution_count": 10,
   "metadata": {
    "collapsed": false,
    "scrolled": true
   },
   "outputs": [
    {
     "name": "stderr",
     "output_type": "stream",
     "text": [
      "Loading required package: network\n",
      "network: Classes for Relational Data\n",
      "Version 1.13.0 created on 2015-08-31.\n",
      "copyright (c) 2005, Carter T. Butts, University of California-Irvine\n",
      "                    Mark S. Handcock, University of California -- Los Angeles\n",
      "                    David R. Hunter, Penn State University\n",
      "                    Martina Morris, University of Washington\n",
      "                    Skye Bender-deMoll, University of Washington\n",
      " For citation information, type citation(\"network\").\n",
      " Type help(\"network-package\") to get started.\n",
      "\n",
      "\n",
      "Attaching package: ‘network’\n",
      "\n",
      "The following objects are masked from ‘package:igraph’:\n",
      "\n",
      "    %c%, %s%, add.edges, add.vertices, delete.edges, delete.vertices,\n",
      "    get.edge.attribute, get.edges, get.vertex.attribute, is.bipartite,\n",
      "    is.directed, list.edge.attributes, list.vertex.attributes,\n",
      "    set.edge.attribute, set.vertex.attribute\n",
      "\n",
      "The following object is masked from ‘package:sna’:\n",
      "\n",
      "    %c%\n",
      "\n"
     ]
    },
    {
     "name": "stdout",
     "output_type": "stream",
     "text": [
      "          x         y  centrality colornode defaultnode degree group  na.x\n",
      "1 0.2893745 0.4687382 0.013282501   #41AB5D       FALSE     17     6 FALSE\n",
      "2 0.3214649 0.3795588 0.007731622   #00441B       FALSE     18    10 FALSE\n",
      "3 0.7652908 0.2848083 0.001340047   #A50F15       FALSE      3    33 FALSE\n",
      "4 0.4980805 0.4638789 0.055411772   #006D2C       FALSE     62     5 FALSE\n",
      "5 0.7857507 0.6293891 0.005108509   #00441B       FALSE      4     7 FALSE\n",
      "6 0.4729610 0.5305755 0.449733804   #006D2C       FALSE    226     5 FALSE\n",
      "   vertex.names      xend      yend coloredge connectDefault na.y Weight\n",
      "1     2007scape 0.2893745 0.4687382      <NA>             NA   NA     NA\n",
      "2           3ds 0.3214649 0.3795588      <NA>             NA   NA     NA\n",
      "3         49ers 0.7652908 0.2848083      <NA>             NA   NA     NA\n",
      "4         4chan 0.4980805 0.4638789      <NA>             NA   NA     NA\n",
      "5        advice 0.7857507 0.6293891      <NA>             NA   NA     NA\n",
      "6 adviceanimals 0.4729610 0.5305755      <NA>             NA   NA     NA\n"
     ]
    }
   ],
   "source": [
    "df_net <- ggnetwork(net, layout = \"fruchtermanreingold\", weights=\"Weight\", niter=50000)\n",
    "\n",
    "write.csv(df_net, \"df_net.csv\", row.names=F)\n",
    "print(head(df_net))"
   ]
  },
  {
   "cell_type": "code",
   "execution_count": 11,
   "metadata": {
    "collapsed": false,
    "scrolled": false
   },
   "outputs": [
    {
     "name": "stdout",
     "output_type": "stream",
     "text": [
      "            x         y centrality colornode defaultnode degree group  na.x\n",
      "20  0.2610215 0.6775423 0.00457658   #006D2C        TRUE      6     5 FALSE\n",
      "25  0.4901913 0.4970370 1.00000000   #006D2C        TRUE    887     5 FALSE\n",
      "26  0.4174736 0.6233355 0.01409392   #006D2C        TRUE     18     5 FALSE\n",
      "39  0.5055989 0.5204532 0.21326200   #006D2C        TRUE    116     5 FALSE\n",
      "63  0.6083284 0.5272011 0.03790249   #006D2C        TRUE     37     5 FALSE\n",
      "108 0.5682124 0.5922601 0.03120117   #006D2C        TRUE     29     5 FALSE\n",
      "    vertex.names      xend      yend coloredge connectDefault na.y Weight\n",
      "20           art 0.2610215 0.6775423      <NA>             NA   NA     NA\n",
      "25     askreddit 0.4901913 0.4970370      <NA>             NA   NA     NA\n",
      "26    askscience 0.4174736 0.6233355      <NA>             NA   NA     NA\n",
      "39           aww 0.5055989 0.5204532      <NA>             NA   NA     NA\n",
      "63         books 0.6083284 0.5272011      <NA>             NA   NA     NA\n",
      "108       creepy 0.5682124 0.5922601      <NA>             NA   NA     NA\n"
     ]
    }
   ],
   "source": [
    "df_net_defaults = df_net[which(df_net$default),]\n",
    "print(head(df_net_defaults))"
   ]
  },
  {
   "cell_type": "code",
   "execution_count": 21,
   "metadata": {
    "collapsed": false
   },
   "outputs": [
    {
     "data": {
      "text/html": [
       "<strong>pdf:</strong> 2"
      ],
      "text/latex": [
       "\\textbf{pdf:} 2"
      ],
      "text/markdown": [
       "**pdf:** 2"
      ],
      "text/plain": [
       "pdf \n",
       "  2 "
      ]
     },
     "execution_count": 21,
     "metadata": {},
     "output_type": "execute_result"
    }
   ],
   "source": [
    "default_colors=c(\"#3498db\", \"#e67e22\")\n",
    "default_labels=c(\"Not Default\", \"Default\")\n",
    "\n",
    "svglite(\"subreddit-1.svg\", width=10, height=8)  \n",
    "  ggplot(df_net, aes(x = x, y = y, xend = xend, yend = yend, size = centrality)) +\n",
    "    geom_edges(aes(color = connectDefault), size=0.05) +\n",
    "    geom_nodes(aes(fill = defaultnode), shape = 21, stroke=0.2, color=\"black\") +\n",
    "    geom_nodelabel_repel(data=df_net, aes(color = defaultnode, label = vertex.names),\n",
    "                          fontface = \"bold\", size=0.5, box.padding = unit(0.05, \"lines\"),\n",
    "                          label.padding= unit(0.1, \"lines\"), segment.size=0.1, label.size=0.2) +\n",
    "    scale_color_manual(values=default_colors, labels=default_labels, guide=F) +\n",
    "    scale_fill_manual(values=default_colors, labels=default_labels) +\n",
    "    ggtitle(\"Network Graph of Reddit Subreddits (by @minimaxir)\") +\n",
    "    scale_size(range=c(0.1, 4)) + \n",
    "    theme_blank()\n",
    "dev.off()\n",
    "\n",
    "rsvg_pdf(\"subreddit-1.svg\", \"subreddit-1.pdf\")"
   ]
  },
  {
   "cell_type": "code",
   "execution_count": 22,
   "metadata": {
    "collapsed": false
   },
   "outputs": [
    {
     "data": {
      "text/html": [
       "<strong>pdf:</strong> 2"
      ],
      "text/latex": [
       "\\textbf{pdf:} 2"
      ],
      "text/markdown": [
       "**pdf:** 2"
      ],
      "text/plain": [
       "pdf \n",
       "  2 "
      ]
     },
     "execution_count": 22,
     "metadata": {},
     "output_type": "execute_result"
    }
   ],
   "source": [
    "svglite(\"subreddit-2.svg\", width=10, height=8)  \n",
    "  ggplot(df_net, aes(x = x, y = y, xend = xend, yend = yend, size = centrality)) +\n",
    "  geom_edges(aes(color = coloredge), size=0.05) +\n",
    "  geom_nodes(aes(fill = colornode), shape = 21, stroke=0.2, color=\"black\") +\n",
    "     geom_nodelabel_repel(data=df_net, aes(color = colornode, label = vertex.names),\n",
    "                       fontface = \"bold\", size=0.5,\n",
    "                    box.padding = unit(0.05, \"lines\"), label.padding= unit(0.1, \"lines\"), segment.size=0.1, label.size=0.2) +\n",
    "    scale_color_identity(\"colornode\", guide=F) +\n",
    "    scale_fill_identity(\"colornode\", guide=F) +\n",
    "    scale_size(range=c(0.2, 3), guide=F) +\n",
    "    ggtitle(\"Network Graph of Reddit Subreddits (by @minimaxir)\") +\n",
    "  theme_blank()\n",
    "dev.off()\n",
    "\n",
    "rsvg_pdf(\"subreddit-2.svg\", \"subreddit-2.pdf\")"
   ]
  },
  {
   "cell_type": "code",
   "execution_count": 23,
   "metadata": {
    "collapsed": false
   },
   "outputs": [],
   "source": [
    "subreddit_graph_subset <- function(group_number) {\n",
    "\n",
    "df_network <- df_net[which(df_net$group==group_number),]\n",
    "\n",
    "plot <- \n",
    "  ggplot(df_network, aes(x = x, y = y, xend = xend, yend = yend, size = centrality)) +\n",
    "  geom_edges(data=df_network[which(df_network$coloredge!=default_edge_color),], aes(color = coloredge), size=0.05) +\n",
    "  geom_nodes(aes(fill = colornode), shape = 21, stroke=0.5, color=\"black\") +\n",
    "    geom_nodelabel_repel(data=df_network, aes(color = colornode, label = vertex.names),\n",
    "                       fontface = \"bold\", family=\"Open Sans Condensed\", size=1.5,\n",
    "                    box.padding = unit(0.10, \"lines\"), label.padding= unit(0.1, \"lines\"), segment.size=0.1, label.size=0.5, label.r=unit(0.15, \"lines\")) +\n",
    "    scale_color_identity(\"colornode\", guide=F) +\n",
    "    scale_fill_identity(\"colornode\", guide=F) +\n",
    "    scale_size(range=c(0.2, 6), guide=F) +\n",
    "    ggtitle(sprintf(\"Network Subgraph of Group %s Subreddits\",group_number)) +\n",
    "  theme_blank(base_size=7, base_family=\"Source Sans Pro\")\n",
    "    \n",
    "ggsave(sprintf(\"subreddit-groups/group-%03d.png\", group_number), plot, width=4, height=3, dpi=300)\n",
    "\n",
    "}"
   ]
  },
  {
   "cell_type": "code",
   "execution_count": 24,
   "metadata": {
    "collapsed": false
   },
   "outputs": [],
   "source": [
    "x <- lapply(1:max(V(net)$group), subreddit_graph_subset)"
   ]
  },
  {
   "cell_type": "markdown",
   "metadata": {
    "collapsed": true
   },
   "source": [
    "# The MIT License (MIT)\n",
    "\n",
    "Copyright (c) 2016 Max Woolf\n",
    "\n",
    "Permission is hereby granted, free of charge, to any person obtaining a copy of this software and associated documentation files (the \"Software\"), to deal in the Software without restriction, including without limitation the rights to use, copy, modify, merge, publish, distribute, sublicense, and/or sell copies of the Software, and to permit persons to whom the Software is furnished to do so, subject to the following conditions:\n",
    "\n",
    "The above copyright notice and this permission notice shall be included in all copies or substantial portions of the Software.\n",
    "\n",
    "THE SOFTWARE IS PROVIDED \"AS IS\", WITHOUT WARRANTY OF ANY KIND, EXPRESS OR IMPLIED, INCLUDING BUT NOT LIMITED TO THE WARRANTIES OF MERCHANTABILITY, FITNESS FOR A PARTICULAR PURPOSE AND NONINFRINGEMENT. IN NO EVENT SHALL THE AUTHORS OR COPYRIGHT HOLDERS BE LIABLE FOR ANY CLAIM, DAMAGES OR OTHER LIABILITY, WHETHER IN AN ACTION OF CONTRACT, TORT OR OTHERWISE, ARISING FROM, OUT OF OR IN CONNECTION WITH THE SOFTWARE OR THE USE OR OTHER DEALINGS IN THE SOFTWARE."
   ]
  }
 ],
 "metadata": {
  "kernelspec": {
   "display_name": "R",
   "language": "R",
   "name": "ir"
  },
  "language_info": {
   "codemirror_mode": "r",
   "file_extension": ".r",
   "mimetype": "text/x-r-source",
   "name": "R",
   "pygments_lexer": "r",
   "version": "3.3.0"
  }
 },
 "nbformat": 4,
 "nbformat_minor": 0
}
